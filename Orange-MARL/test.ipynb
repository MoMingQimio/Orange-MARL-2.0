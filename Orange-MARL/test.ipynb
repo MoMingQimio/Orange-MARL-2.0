{
 "cells": [
  {
   "cell_type": "code",
   "execution_count": 1,
   "metadata": {},
   "outputs": [],
   "source": [
    "import numpy as np\n",
    "import pandas as pd"
   ]
  },
  {
   "cell_type": "code",
   "execution_count": 2,
   "metadata": {},
   "outputs": [],
   "source": [
    "a = np.random.random([2,6])"
   ]
  }
 ],
 "metadata": {
  "interpreter": {
   "hash": "9e83c2f7c0291c0c08c6b0a6ae057777a7d9bd38cc83faae02e68fbd1c5388ff"
  },
  "kernelspec": {
   "display_name": "Python 3.7.11 64-bit ('pytorh-gpu': conda)",
   "language": "python",
   "name": "python3"
  },
  "language_info": {
   "codemirror_mode": {
    "name": "ipython",
    "version": 3
   },
   "file_extension": ".py",
   "mimetype": "text/x-python",
   "name": "python",
   "nbconvert_exporter": "python",
   "pygments_lexer": "ipython3",
   "version": "3.7.11"
  },
  "orig_nbformat": 4
 },
 "nbformat": 4,
 "nbformat_minor": 2
}
