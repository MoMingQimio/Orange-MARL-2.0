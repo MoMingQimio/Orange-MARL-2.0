{
 "cells": [
  {
   "cell_type": "code",
   "execution_count": 41,
   "metadata": {},
   "outputs": [],
   "source": [
    "import numpy as np\n",
    "from mixed import MixAgent\n",
    "from buffer import MultiAgentReplayBuffer\n",
    "from OrangeEnv import MultiAgentEnv\n",
    "import matplotlib.pyplot as plt\n",
    "import pandas as pd"
   ]
  },
  {
   "cell_type": "code",
   "execution_count": 42,
   "metadata": {},
   "outputs": [],
   "source": [
    "scenario = \"lattice\" #博弈所处的环境，一共分为lattice,ba,random,ws四种。\n",
    "n_agents = 100 #智能体的总数。\n",
    "AI_rate = 0.8  #智能体为强化学习者的比例。\n",
    "\n",
    "N_GAMES = 1  #一局演化重复的次数。\n",
    "MAX_STEPS = 100 #一次演化最多会有多少步\n",
    "\n",
    "evaluate = True  #控制训练的开关。\n",
    "\n",
    "init_prob = 0.5\n",
    "spatial_distirbution_list = [0, 50, 99] #调整输出结果"
   ]
  },
  {
   "cell_type": "code",
   "execution_count": 43,
   "metadata": {},
   "outputs": [],
   "source": [
    "env = MultiAgentEnv(n_agents, scenario)\n",
    "actor_dims = []\n",
    "\n",
    "#waiting for adjustment  \n",
    "for i in range(n_agents):\n",
    "    actor_dims.append(env.observation_space[i] * 2)\n",
    "critic_dims = n_agents * 2\n",
    "\n",
    "n_actions= 2"
   ]
  },
  {
   "cell_type": "code",
   "execution_count": 44,
   "metadata": {},
   "outputs": [],
   "source": [
    "#这两个依然有超参数，不过不重要\n",
    "maddpg_agents = MixAgent(actor_dims, critic_dims, n_agents, n_actions, \n",
    "                           fc1=64, fc2=64, AI_rate=AI_rate, \n",
    "                           alpha=0.01, beta=0.01, scenario=scenario,\n",
    "                           chkpt_dir='tmp/mixed/')\n",
    "memory = MultiAgentReplayBuffer(100000 , critic_dims, actor_dims, \n",
    "                        n_actions, n_agents, batch_size=1024 )"
   ]
  },
  {
   "cell_type": "code",
   "execution_count": 46,
   "metadata": {},
   "outputs": [],
   "source": [
    "#variable for counting, which is not need to adjust.\n",
    "total_steps = 0\n",
    "score_history = []\n",
    "best_score = 0\n",
    "PRINT_INTERVAL = 100 "
   ]
  },
  {
   "cell_type": "code",
   "execution_count": 47,
   "metadata": {},
   "outputs": [
    {
     "name": "stdout",
     "output_type": "stream",
     "text": [
      "... loading checkpoint ...\n"
     ]
    }
   ],
   "source": [
    "if evaluate:\n",
    "    maddpg_agents.load_checkpoint()"
   ]
  },
  {
   "cell_type": "code",
   "execution_count": 48,
   "metadata": {},
   "outputs": [
    {
     "name": "stderr",
     "output_type": "stream",
     "text": [
      "f:\\PYTHON PROGRAM\\Orange-MARL\\networks.py:56: UserWarning: To copy construct from a tensor, it is recommended to use sourceTensor.clone().detach() or sourceTensor.clone().detach().requires_grad_(True), rather than torch.tensor(sourceTensor).\n",
      "  state = T.tensor(state,dtype= T.float32)\n"
     ]
    }
   ],
   "source": [
    "for i in range(N_GAMES):\n",
    "    state, obs = env.reset(init_prob)\n",
    "    score = 0\n",
    "    done = [False]*n_agents\n",
    "    episode_step = 0\n",
    "    cooperate_counts = [init_prob]\n",
    "    \n",
    "    \n",
    "    actions = np.zeros(n_agents)\n",
    "    split = int(init_prob * n_agents)\n",
    "    actions[split: ] = 1.0\n",
    "    \n",
    "    while not any(done):\n",
    "        # if evaluate:\n",
    "        #     env.render()\n",
    "            #time.sleep(0.1) # to slow down the action for the video\n",
    "        if episode_step in spatial_distirbution_list:\n",
    "            spatial_distirbution = pd.DataFrame(np.array(actions).reshape(int(np.sqrt(n_agents)),-1))\n",
    "            spatial_distirbution.to_csv('results/spatial_distribution/' + scenario + '/' \n",
    "                                        + scenario \n",
    "                                        + \", Agents_num = \"+ str(n_agents) \n",
    "                                        + (', AI-rate = %.2f' % AI_rate) \n",
    "                                        + (\", eposide= %d\" % episode_step)\n",
    "                                        + \" .csv\"  , index= False, header= None)\n",
    "            \n",
    "        actions = maddpg_agents.choose_action(obs)\n",
    "        state_, obs_, reward, done, info = env.step(np.array(actions)[:,0])\n",
    "        cooperate_count = np.count_nonzero(np.array(actions)[:,0] == 0)\n",
    "        # state = obs_list_to_state_vector(obs)\n",
    "        # state_ = obs_list_to_state_vector(obs_)\n",
    "        cooperate_counts.append(cooperate_count / n_agents)\n",
    "\n",
    "        if episode_step >= MAX_STEPS:\n",
    "            done = [True]*n_agents\n",
    "\n",
    "        memory.store_transition(obs, state, actions, reward, obs_, state_, done)\n",
    "\n",
    "        if total_steps % 100 == 0 and not evaluate:\n",
    "            maddpg_agents.learn(memory)\n",
    "\n",
    "        obs = obs_\n",
    "        state = state_\n",
    "        \n",
    "        score = sum(reward)\n",
    "        total_steps += 1\n",
    "        episode_step += 1\n",
    "\n",
    "    score_history.append(score)\n",
    "    avg_score = np.mean(score_history[-100:])\n",
    "    if not evaluate:\n",
    "        if avg_score > best_score:\n",
    "            maddpg_agents.save_checkpoint()\n",
    "            best_score = avg_score\n",
    "    if i % PRINT_INTERVAL == 0 and i > 0:\n",
    "        print('episode', i, 'average score {:.1f}'.format(avg_score))"
   ]
  },
  {
   "cell_type": "code",
   "execution_count": 49,
   "metadata": {},
   "outputs": [
    {
     "data": {
      "text/plain": [
       "[array([1., 0.], dtype=float32),\n",
       " array([0., 1.]),\n",
       " array([0., 1.], dtype=float32),\n",
       " array([1., 0.], dtype=float32),\n",
       " array([0., 1.], dtype=float32),\n",
       " array([0., 1.], dtype=float32),\n",
       " array([1., 0.]),\n",
       " array([1., 0.], dtype=float32),\n",
       " array([1., 0.], dtype=float32),\n",
       " array([1., 0.], dtype=float32),\n",
       " array([0., 1.], dtype=float32),\n",
       " array([0., 1.]),\n",
       " array([0., 1.], dtype=float32),\n",
       " array([0., 1.], dtype=float32),\n",
       " array([0., 1.], dtype=float32),\n",
       " array([1., 0.], dtype=float32),\n",
       " array([0., 1.], dtype=float32),\n",
       " array([0., 1.], dtype=float32),\n",
       " array([0., 1.], dtype=float32),\n",
       " array([0., 1.], dtype=float32),\n",
       " array([0., 1.], dtype=float32),\n",
       " array([0., 1.], dtype=float32),\n",
       " array([0., 1.], dtype=float32),\n",
       " array([0., 1.], dtype=float32),\n",
       " array([1., 0.], dtype=float32),\n",
       " array([1., 0.], dtype=float32),\n",
       " array([1., 0.]),\n",
       " array([1., 0.], dtype=float32),\n",
       " array([1., 0.], dtype=float32),\n",
       " array([0., 1.], dtype=float32),\n",
       " array([1., 0.], dtype=float32),\n",
       " array([0., 1.], dtype=float32),\n",
       " array([0., 1.], dtype=float32),\n",
       " array([1., 0.]),\n",
       " array([0., 1.], dtype=float32),\n",
       " array([0., 1.], dtype=float32),\n",
       " array([0., 1.], dtype=float32),\n",
       " array([1., 0.], dtype=float32),\n",
       " array([1., 0.], dtype=float32),\n",
       " array([1., 0.]),\n",
       " array([1., 0.], dtype=float32),\n",
       " array([0., 1.], dtype=float32),\n",
       " array([0., 1.], dtype=float32),\n",
       " array([1., 0.], dtype=float32),\n",
       " array([1., 0.]),\n",
       " array([0., 1.], dtype=float32),\n",
       " array([1., 0.], dtype=float32),\n",
       " array([0., 1.], dtype=float32),\n",
       " array([0., 1.], dtype=float32),\n",
       " array([1., 0.], dtype=float32),\n",
       " array([1., 0.], dtype=float32),\n",
       " array([1., 0.], dtype=float32),\n",
       " array([0., 1.], dtype=float32),\n",
       " array([0., 1.], dtype=float32),\n",
       " array([1., 0.], dtype=float32),\n",
       " array([0., 1.], dtype=float32),\n",
       " array([0., 1.], dtype=float32),\n",
       " array([1., 0.]),\n",
       " array([1., 0.]),\n",
       " array([0., 1.], dtype=float32),\n",
       " array([1., 0.], dtype=float32),\n",
       " array([1., 0.]),\n",
       " array([0., 1.], dtype=float32),\n",
       " array([0., 1.], dtype=float32),\n",
       " array([1., 0.], dtype=float32),\n",
       " array([0., 1.], dtype=float32),\n",
       " array([0., 1.], dtype=float32),\n",
       " array([1., 0.], dtype=float32),\n",
       " array([1., 0.], dtype=float32),\n",
       " array([1., 0.], dtype=float32),\n",
       " array([0., 1.], dtype=float32),\n",
       " array([0., 1.], dtype=float32),\n",
       " array([1., 0.]),\n",
       " array([1., 0.]),\n",
       " array([1., 0.], dtype=float32),\n",
       " array([0., 1.], dtype=float32),\n",
       " array([1., 0.]),\n",
       " array([0., 1.], dtype=float32),\n",
       " array([0., 1.], dtype=float32),\n",
       " array([1., 0.], dtype=float32),\n",
       " array([1., 0.]),\n",
       " array([1., 0.], dtype=float32),\n",
       " array([1., 0.]),\n",
       " array([0., 1.], dtype=float32),\n",
       " array([0., 1.], dtype=float32),\n",
       " array([0., 1.], dtype=float32),\n",
       " array([1., 0.]),\n",
       " array([0., 1.], dtype=float32),\n",
       " array([0., 1.], dtype=float32),\n",
       " array([0., 1.], dtype=float32),\n",
       " array([0., 1.], dtype=float32),\n",
       " array([0., 1.], dtype=float32),\n",
       " array([1., 0.], dtype=float32),\n",
       " array([1., 0.]),\n",
       " array([0., 1.], dtype=float32),\n",
       " array([0., 1.]),\n",
       " array([1., 0.], dtype=float32),\n",
       " array([1., 0.], dtype=float32),\n",
       " array([1., 0.], dtype=float32),\n",
       " array([0., 1.], dtype=float32)]"
      ]
     },
     "execution_count": 49,
     "metadata": {},
     "output_type": "execute_result"
    }
   ],
   "source": [
    "actions"
   ]
  },
  {
   "cell_type": "code",
   "execution_count": 50,
   "metadata": {},
   "outputs": [],
   "source": [
    "results = pd.DataFrame(cooperate_counts)\n",
    "results.to_csv('results/cooperate_counts/' + scenario + '/'+ \"Agents_num = \"+ str(n_agents) + (', AI-rate = %.2f' % AI_rate) + \" .csv\"  , index= False)"
   ]
  },
  {
   "cell_type": "code",
   "execution_count": 51,
   "metadata": {},
   "outputs": [
    {
     "data": {
      "text/plain": [
       "[<matplotlib.lines.Line2D at 0x283740be388>]"
      ]
     },
     "execution_count": 51,
     "metadata": {},
     "output_type": "execute_result"
    },
    {
     "data": {
      "image/png": "[encoded data removed]",
      "text/plain": [
       "<Figure size 432x288 with 1 Axes>"
      ]
     },
     "metadata": {
      "needs_background": "light"
     },
     "output_type": "display_data"
    }
   ],
   "source": [
    "plt.plot(cooperate_counts)"
   ]
  }
 ],
 "metadata": {
  "interpreter": {
   "hash": "9e83c2f7c0291c0c08c6b0a6ae057777a7d9bd38cc83faae02e68fbd1c5388ff"
  },
  "kernelspec": {
   "display_name": "Python 3.7.11 64-bit ('pytorh-gpu': conda)",
   "language": "python",
   "name": "python3"
  },
  "language_info": {
   "codemirror_mode": {
    "name": "ipython",
    "version": 3
   },
   "file_extension": ".py",
   "mimetype": "text/x-python",
   "name": "python",
   "nbconvert_exporter": "python",
   "pygments_lexer": "ipython3",
   "version": "3.7.11"
  },
  "orig_nbformat": 4
 },
 "nbformat": 4,
 "nbformat_minor": 2
}
